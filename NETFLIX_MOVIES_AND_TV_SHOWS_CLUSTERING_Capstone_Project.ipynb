{
  "nbformat": 4,
  "nbformat_minor": 0,
  "metadata": {
    "colab": {
      "provenance": [],
      "authorship_tag": "ABX9TyPd0ez0TY0P9onIYY0MVU9K",
      "include_colab_link": true
    },
    "kernelspec": {
      "name": "python3",
      "display_name": "Python 3"
    },
    "language_info": {
      "name": "python"
    }
  },
  "cells": [
    {
      "cell_type": "markdown",
      "metadata": {
        "id": "view-in-github",
        "colab_type": "text"
      },
      "source": [
        "<a href=\"https://colab.research.google.com/github/VrushankAmare/Credit-Card-Default-Prediction/blob/main/NETFLIX_MOVIES_AND_TV_SHOWS_CLUSTERING_Capstone_Project.ipynb\" target=\"_parent\"><img src=\"https://colab.research.google.com/assets/colab-badge.svg\" alt=\"Open In Colab\"/></a>"
      ]
    },
    {
      "cell_type": "markdown",
      "source": [
        "# \"**NETFLIX MOVIES AND TV SHOWS CLUSTERING**\""
      ],
      "metadata": {
        "id": "rBO2Z4_wxTqh"
      }
    },
    {
      "cell_type": "markdown",
      "source": [
        "## **In this notebook, we plan to execute the following outline:**\n",
        "*   **Problem Description**\n",
        "*   **Preparation**\n",
        "   *  **Importing Packages and Loading Data**\n",
        "*   **Exploratory Data Analysis (EDA)**\n",
        "   *  Data Overview and Cleaning\n",
        "   *  Checking null values\n",
        "   *  Dropping null values\n",
        "   *  Dropping few columns\n",
        "   *  Checking the duplicates and their sum\n",
        "   *  Multivariate Analysis\n",
        "   *  Data Analysis and Visualization\n",
        "   *  The Relationship Between the Categories\n",
        "   *  Correlation Between the Variables\n",
        "   \n",
        "*   **Feature Selection**\n",
        "* **Clustering data**\n",
        "\n",
        "*  **Algorithm Selection**\n",
        "\n",
        "*  **Hyperparameter Tuning**\n",
        "\n",
        "*   **Model Evaluation**\n",
        "\n",
        "*   **Conclusion**\n"
      ],
      "metadata": {
        "id": "FJIQ3eUDxcd8"
      }
    },
    {
      "cell_type": "markdown",
      "source": [
        "# **Problem Statement**"
      ],
      "metadata": {
        "id": "lCh_P2tvxhOh"
      }
    },
    {
      "cell_type": "markdown",
      "source": [
        "This dataset consists of tv shows and movies available on Netflix as of 2019. The dataset is collected from Flixable which is a third-party Netflix search engine.\n",
        "\n",
        "In 2018, they released an interesting report which shows that the number of TV shows on Netflix has nearly tripled since 2010. The streaming service’s number of movies has decreased by more than 2,000 titles since 2010, while its number of TV shows has nearly tripled. It will be interesting to explore what all other insights can be obtained from the same dataset.\n",
        "\n",
        "Integrating this dataset with other external datasets such as IMDB ratings, rotten tomatoes can also provide many interesting findings."
      ],
      "metadata": {
        "id": "YDn_RaXJxk3I"
      }
    },
    {
      "cell_type": "markdown",
      "source": [
        "## <b>In this  project, you are required to do </b>\n",
        "1. Exploratory Data Analysis \n",
        "\n",
        "2. Understanding what type content is available in different countries\n",
        "\n",
        "3. Is Netflix has increasingly focusing on TV rather than movies in recent years.\n",
        "4. Clustering similar content by matching text-based features\n",
        "\n"
      ],
      "metadata": {
        "id": "t16sd0fQxo1U"
      }
    },
    {
      "cell_type": "markdown",
      "source": [
        "# **Attribute Information**"
      ],
      "metadata": {
        "id": "8MzqVg8Jxsh3"
      }
    },
    {
      "cell_type": "markdown",
      "source": [
        "1. show_id : Unique ID for every Movie / Tv Show\n",
        "\n",
        "2. type : Identifier - A Movie or TV Show\n",
        "\n",
        "3. title : Title of the Movie / Tv Show\n",
        "\n",
        "4. director : Director of the Movie\n",
        "\n",
        "5. cast : Actors involved in the movie / show\n",
        "\n",
        "6. country : Country where the movie / show was produced\n",
        "\n",
        "7. date_added : Date it was added on Netflix\n",
        "\n",
        "8. release_year : Actual Releaseyear of the movie / show\n",
        "\n",
        "9. rating : TV Rating of the movie / show\n",
        "\n",
        "10. duration : Total Duration - in minutes or number of seasons\n",
        "\n",
        "11. listed_in : Genere\n",
        "\n",
        "12. description: The Summary description"
      ],
      "metadata": {
        "id": "fqFj4Q8hxv7I"
      }
    },
    {
      "cell_type": "markdown",
      "source": [
        "# **Importing Neccessary Modules and Loading Dataset**\n"
      ],
      "metadata": {
        "id": "N5Lu0ff_x1SF"
      }
    },
    {
      "cell_type": "markdown",
      "source": [
        "**Import libraries**"
      ],
      "metadata": {
        "id": "fhuh3Ov9x6OE"
      }
    },
    {
      "cell_type": "code",
      "execution_count": 1,
      "metadata": {
        "id": "Y47G0z5l8Zoy"
      },
      "outputs": [],
      "source": [
        "#Importing the libraries we need.\n",
        "import numpy as np\n",
        "import pandas as pd\n",
        "import matplotlib.pyplot as plt\n",
        "import seaborn as sns\n",
        "import missingno as msno\n",
        "import matplotlib.cm as cm\n",
        "\n",
        "from os import path\n",
        "from PIL import Image\n",
        "from wordcloud import WordCloud, STOPWORDS, ImageColorGenerator\n",
        "\n",
        "\n",
        "#for nlp\n",
        "from sklearn import preprocessing\n",
        "from sklearn.feature_extraction.text import CountVectorizer, TfidfVectorizer\n",
        "from sklearn.model_selection import train_test_split, KFold\n",
        "from nltk.corpus import stopwords\n",
        "from nltk.stem.snowball import SnowballStemmer\n",
        "\n",
        "from sklearn.metrics import silhouette_score\n",
        "from sklearn.cluster import KMeans\n",
        "from sklearn.metrics import silhouette_samples\n",
        "import scipy.cluster.hierarchy as sch\n",
        "\n",
        "\n",
        "import warnings\n",
        "warnings.filterwarnings('ignore')"
      ]
    },
    {
      "cell_type": "markdown",
      "source": [
        "##Mounting the dataset from github"
      ],
      "metadata": {
        "id": "xpRlJNB5yPMs"
      }
    },
    {
      "cell_type": "code",
      "source": [],
      "metadata": {
        "id": "hob2bITzyDDP"
      },
      "execution_count": null,
      "outputs": []
    }
  ]
}